{
 "cells": [
  {
   "cell_type": "markdown",
   "metadata": {},
   "source": [
    "# Automatic EDA using `ydata profiling`"
   ]
  },
  {
   "cell_type": "code",
   "execution_count": 1,
   "metadata": {},
   "outputs": [],
   "source": [
    "import pandas as pd\n",
    "import seaborn as sns\n",
    "import ydata_profiling as yd"
   ]
  },
  {
   "cell_type": "code",
   "execution_count": 2,
   "metadata": {},
   "outputs": [],
   "source": [
    "df = sns.load_dataset('titanic')"
   ]
  },
  {
   "cell_type": "code",
   "execution_count": 5,
   "metadata": {},
   "outputs": [
    {
     "data": {
      "application/vnd.jupyter.widget-view+json": {
       "model_id": "d404564a9d0543ed815632682f288a9c",
       "version_major": 2,
       "version_minor": 0
      },
      "text/plain": [
       "Summarize dataset:   0%|          | 0/5 [00:00<?, ?it/s]"
      ]
     },
     "metadata": {},
     "output_type": "display_data"
    },
    {
     "data": {
      "application/vnd.jupyter.widget-view+json": {
       "model_id": "3b4cf2557d084dd3be906e2151e3cf14",
       "version_major": 2,
       "version_minor": 0
      },
      "text/plain": [
       "Generate report structure:   0%|          | 0/1 [00:00<?, ?it/s]"
      ]
     },
     "metadata": {},
     "output_type": "display_data"
    },
    {
     "data": {
      "application/vnd.jupyter.widget-view+json": {
       "model_id": "44808214990645ba8764d3c6f610f245",
       "version_major": 2,
       "version_minor": 0
      },
      "text/plain": [
       "Render HTML:   0%|          | 0/1 [00:00<?, ?it/s]"
      ]
     },
     "metadata": {},
     "output_type": "display_data"
    },
    {
     "data": {
      "application/vnd.jupyter.widget-view+json": {
       "model_id": "b0246e563d294a9791626b1d7c558d63",
       "version_major": 2,
       "version_minor": 0
      },
      "text/plain": [
       "Export report to file:   0%|          | 0/1 [00:00<?, ?it/s]"
      ]
     },
     "metadata": {},
     "output_type": "display_data"
    }
   ],
   "source": [
    "profile = yd.ProfileReport(df)\n",
    "profile.to_file('./outputs/Titanic-data report.html')"
   ]
  },
  {
   "cell_type": "code",
   "execution_count": 8,
   "metadata": {},
   "outputs": [
    {
     "data": {
      "text/html": [
       "<div>\n",
       "<style scoped>\n",
       "    .dataframe tbody tr th:only-of-type {\n",
       "        vertical-align: middle;\n",
       "    }\n",
       "\n",
       "    .dataframe tbody tr th {\n",
       "        vertical-align: top;\n",
       "    }\n",
       "\n",
       "    .dataframe thead th {\n",
       "        text-align: right;\n",
       "    }\n",
       "</style>\n",
       "<table border=\"1\" class=\"dataframe\">\n",
       "  <thead>\n",
       "    <tr style=\"text-align: right;\">\n",
       "      <th></th>\n",
       "      <th>PROVINCE</th>\n",
       "      <th>DIVISION</th>\n",
       "      <th>DISTRICT</th>\n",
       "      <th>SUB DIVISION</th>\n",
       "      <th>AREA (sq.km)</th>\n",
       "      <th>ALL SEXES (RURAL)</th>\n",
       "      <th>MALE (RURAL)</th>\n",
       "      <th>FEMALE (RURAL)</th>\n",
       "      <th>TRANSGENDER (RURAL)</th>\n",
       "      <th>SEX RATIO (RURAL)</th>\n",
       "      <th>...</th>\n",
       "      <th>POPULATION 1998 (RURAL)</th>\n",
       "      <th>ANNUAL GROWTH RATE (RURAL)</th>\n",
       "      <th>ALL SEXES (URBAN)</th>\n",
       "      <th>MALE (URBAN)</th>\n",
       "      <th>FEMALE (URBAN)</th>\n",
       "      <th>TRANSGENDER (URBAN)</th>\n",
       "      <th>SEX RATIO (URBAN)</th>\n",
       "      <th>AVG HOUSEHOLD SIZE (URBAN)</th>\n",
       "      <th>POPULATION 1998 (URBAN)</th>\n",
       "      <th>ANNUAL GROWTH RATE (URBAN)</th>\n",
       "    </tr>\n",
       "  </thead>\n",
       "  <tbody>\n",
       "    <tr>\n",
       "      <th>0</th>\n",
       "      <td>PUNJAB</td>\n",
       "      <td>BAHAWALPUR DIVISION</td>\n",
       "      <td>BAHAWALNAGAR DISTRICT</td>\n",
       "      <td>BAHAWALNAGAR TEHSIL</td>\n",
       "      <td>1729.0</td>\n",
       "      <td>619550</td>\n",
       "      <td>316864</td>\n",
       "      <td>302644</td>\n",
       "      <td>42</td>\n",
       "      <td>104.70</td>\n",
       "      <td>...</td>\n",
       "      <td>407768</td>\n",
       "      <td>2.22</td>\n",
       "      <td>193840</td>\n",
       "      <td>98391</td>\n",
       "      <td>95402</td>\n",
       "      <td>47</td>\n",
       "      <td>103.13</td>\n",
       "      <td>6.02</td>\n",
       "      <td>133785</td>\n",
       "      <td>1.97</td>\n",
       "    </tr>\n",
       "    <tr>\n",
       "      <th>1</th>\n",
       "      <td>PUNJAB</td>\n",
       "      <td>BAHAWALPUR DIVISION</td>\n",
       "      <td>BAHAWALNAGAR DISTRICT</td>\n",
       "      <td>CHISHTIAN TEHSIL</td>\n",
       "      <td>1500.0</td>\n",
       "      <td>540342</td>\n",
       "      <td>273788</td>\n",
       "      <td>266500</td>\n",
       "      <td>54</td>\n",
       "      <td>102.73</td>\n",
       "      <td>...</td>\n",
       "      <td>395983</td>\n",
       "      <td>1.65</td>\n",
       "      <td>149424</td>\n",
       "      <td>75546</td>\n",
       "      <td>73851</td>\n",
       "      <td>27</td>\n",
       "      <td>102.30</td>\n",
       "      <td>6.01</td>\n",
       "      <td>102287</td>\n",
       "      <td>2.01</td>\n",
       "    </tr>\n",
       "    <tr>\n",
       "      <th>2</th>\n",
       "      <td>PUNJAB</td>\n",
       "      <td>BAHAWALPUR DIVISION</td>\n",
       "      <td>BAHAWALNAGAR DISTRICT</td>\n",
       "      <td>FORT ABBAS TEHSIL</td>\n",
       "      <td>2536.0</td>\n",
       "      <td>361240</td>\n",
       "      <td>182655</td>\n",
       "      <td>178541</td>\n",
       "      <td>44</td>\n",
       "      <td>102.30</td>\n",
       "      <td>...</td>\n",
       "      <td>250959</td>\n",
       "      <td>1.93</td>\n",
       "      <td>61528</td>\n",
       "      <td>31360</td>\n",
       "      <td>30150</td>\n",
       "      <td>18</td>\n",
       "      <td>104.01</td>\n",
       "      <td>6.00</td>\n",
       "      <td>34637</td>\n",
       "      <td>3.06</td>\n",
       "    </tr>\n",
       "    <tr>\n",
       "      <th>3</th>\n",
       "      <td>PUNJAB</td>\n",
       "      <td>BAHAWALPUR DIVISION</td>\n",
       "      <td>BAHAWALNAGAR DISTRICT</td>\n",
       "      <td>HAROONABAD TEHSIL</td>\n",
       "      <td>1295.0</td>\n",
       "      <td>382115</td>\n",
       "      <td>192278</td>\n",
       "      <td>189808</td>\n",
       "      <td>29</td>\n",
       "      <td>101.30</td>\n",
       "      <td>...</td>\n",
       "      <td>297343</td>\n",
       "      <td>1.33</td>\n",
       "      <td>142600</td>\n",
       "      <td>71345</td>\n",
       "      <td>71236</td>\n",
       "      <td>19</td>\n",
       "      <td>100.15</td>\n",
       "      <td>6.02</td>\n",
       "      <td>84424</td>\n",
       "      <td>2.79</td>\n",
       "    </tr>\n",
       "    <tr>\n",
       "      <th>4</th>\n",
       "      <td>PUNJAB</td>\n",
       "      <td>BAHAWALPUR DIVISION</td>\n",
       "      <td>BAHAWALNAGAR DISTRICT</td>\n",
       "      <td>MINCHINABAD TEHSIL</td>\n",
       "      <td>1818.0</td>\n",
       "      <td>452723</td>\n",
       "      <td>231506</td>\n",
       "      <td>221178</td>\n",
       "      <td>39</td>\n",
       "      <td>104.67</td>\n",
       "      <td>...</td>\n",
       "      <td>316593</td>\n",
       "      <td>1.90</td>\n",
       "      <td>72294</td>\n",
       "      <td>36694</td>\n",
       "      <td>35590</td>\n",
       "      <td>10</td>\n",
       "      <td>103.10</td>\n",
       "      <td>6.34</td>\n",
       "      <td>37668</td>\n",
       "      <td>3.48</td>\n",
       "    </tr>\n",
       "  </tbody>\n",
       "</table>\n",
       "<p>5 rows × 21 columns</p>\n",
       "</div>"
      ],
      "text/plain": [
       "  PROVINCE             DIVISION               DISTRICT         SUB DIVISION  \\\n",
       "0   PUNJAB  BAHAWALPUR DIVISION  BAHAWALNAGAR DISTRICT  BAHAWALNAGAR TEHSIL   \n",
       "1   PUNJAB  BAHAWALPUR DIVISION  BAHAWALNAGAR DISTRICT     CHISHTIAN TEHSIL   \n",
       "2   PUNJAB  BAHAWALPUR DIVISION  BAHAWALNAGAR DISTRICT    FORT ABBAS TEHSIL   \n",
       "3   PUNJAB  BAHAWALPUR DIVISION  BAHAWALNAGAR DISTRICT    HAROONABAD TEHSIL   \n",
       "4   PUNJAB  BAHAWALPUR DIVISION  BAHAWALNAGAR DISTRICT   MINCHINABAD TEHSIL   \n",
       "\n",
       "   AREA (sq.km)  ALL SEXES (RURAL)  MALE (RURAL)  FEMALE (RURAL)  \\\n",
       "0        1729.0             619550        316864          302644   \n",
       "1        1500.0             540342        273788          266500   \n",
       "2        2536.0             361240        182655          178541   \n",
       "3        1295.0             382115        192278          189808   \n",
       "4        1818.0             452723        231506          221178   \n",
       "\n",
       "   TRANSGENDER (RURAL)  SEX RATIO (RURAL)  ...  POPULATION 1998 (RURAL)  \\\n",
       "0                   42             104.70  ...                   407768   \n",
       "1                   54             102.73  ...                   395983   \n",
       "2                   44             102.30  ...                   250959   \n",
       "3                   29             101.30  ...                   297343   \n",
       "4                   39             104.67  ...                   316593   \n",
       "\n",
       "   ANNUAL GROWTH RATE (RURAL)  ALL SEXES (URBAN)  MALE (URBAN)  \\\n",
       "0                        2.22             193840         98391   \n",
       "1                        1.65             149424         75546   \n",
       "2                        1.93              61528         31360   \n",
       "3                        1.33             142600         71345   \n",
       "4                        1.90              72294         36694   \n",
       "\n",
       "   FEMALE (URBAN)  TRANSGENDER (URBAN)  SEX RATIO (URBAN)  \\\n",
       "0           95402                   47             103.13   \n",
       "1           73851                   27             102.30   \n",
       "2           30150                   18             104.01   \n",
       "3           71236                   19             100.15   \n",
       "4           35590                   10             103.10   \n",
       "\n",
       "   AVG HOUSEHOLD SIZE (URBAN)  POPULATION 1998 (URBAN)  \\\n",
       "0                        6.02                   133785   \n",
       "1                        6.01                   102287   \n",
       "2                        6.00                    34637   \n",
       "3                        6.02                    84424   \n",
       "4                        6.34                    37668   \n",
       "\n",
       "   ANNUAL GROWTH RATE (URBAN)  \n",
       "0                        1.97  \n",
       "1                        2.01  \n",
       "2                        3.06  \n",
       "3                        2.79  \n",
       "4                        3.48  \n",
       "\n",
       "[5 rows x 21 columns]"
      ]
     },
     "execution_count": 8,
     "metadata": {},
     "output_type": "execute_result"
    }
   ],
   "source": [
    "# lets do it on our own data\n",
    "population_data = pd.read_csv(r'C:\\\\Users\\\\riyan\\\\OneDrive\\\\Desktop\\\\Population of pakistan\\\\data\\\\sub-division_population_of_pakistan.csv')\n",
    "population_data.head()"
   ]
  },
  {
   "cell_type": "code",
   "execution_count": 10,
   "metadata": {},
   "outputs": [
    {
     "data": {
      "application/vnd.jupyter.widget-view+json": {
       "model_id": "09a2e593da12434a98490c76bd5e0d9b",
       "version_major": 2,
       "version_minor": 0
      },
      "text/plain": [
       "Summarize dataset:   0%|          | 0/5 [00:00<?, ?it/s]"
      ]
     },
     "metadata": {},
     "output_type": "display_data"
    },
    {
     "data": {
      "application/vnd.jupyter.widget-view+json": {
       "model_id": "531df64eac0d4f36b85c0086596416c5",
       "version_major": 2,
       "version_minor": 0
      },
      "text/plain": [
       "Generate report structure:   0%|          | 0/1 [00:00<?, ?it/s]"
      ]
     },
     "metadata": {},
     "output_type": "display_data"
    },
    {
     "data": {
      "application/vnd.jupyter.widget-view+json": {
       "model_id": "2234f5b9bf1343a7b5c36abe0b90cc47",
       "version_major": 2,
       "version_minor": 0
      },
      "text/plain": [
       "Render HTML:   0%|          | 0/1 [00:00<?, ?it/s]"
      ]
     },
     "metadata": {},
     "output_type": "display_data"
    },
    {
     "data": {
      "application/vnd.jupyter.widget-view+json": {
       "model_id": "2c9fde46363c4874a44f9c41c5c69eed",
       "version_major": 2,
       "version_minor": 0
      },
      "text/plain": [
       "Export report to file:   0%|          | 0/1 [00:00<?, ?it/s]"
      ]
     },
     "metadata": {},
     "output_type": "display_data"
    }
   ],
   "source": [
    "population_profile = yd.ProfileReport(population_data)\n",
    "population_profile.to_file('./outputs/population-data report.html')"
   ]
  },
  {
   "cell_type": "code",
   "execution_count": null,
   "metadata": {},
   "outputs": [],
   "source": []
  }
 ],
 "metadata": {
  "kernelspec": {
   "display_name": "ydata_profiling",
   "language": "python",
   "name": "python3"
  },
  "language_info": {
   "codemirror_mode": {
    "name": "ipython",
    "version": 3
   },
   "file_extension": ".py",
   "mimetype": "text/x-python",
   "name": "python",
   "nbconvert_exporter": "python",
   "pygments_lexer": "ipython3",
   "version": "3.10.14"
  }
 },
 "nbformat": 4,
 "nbformat_minor": 2
}
